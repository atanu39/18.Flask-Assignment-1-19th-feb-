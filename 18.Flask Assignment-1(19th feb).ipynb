{
 "cells": [
  {
   "cell_type": "markdown",
   "id": "39214217-145b-4518-8b9a-bd74224176ca",
   "metadata": {},
   "source": [
    "# Q1. What is Flask Framework? What are the advantages of Flask Framework?"
   ]
  },
  {
   "cell_type": "markdown",
   "id": "7360a60b-c9c1-4a15-92da-490c6d719a80",
   "metadata": {},
   "source": [
    "# Ans :"
   ]
  },
  {
   "cell_type": "markdown",
   "id": "13c2795a-7481-44a8-bb09-2008bb9964cf",
   "metadata": {},
   "source": [
    "Flask is a popular Python web framework that allows developers to easily build web applications. It is a lightweight and flexible framework that is known for its simplicity and ease of use. Flask is often used for small to medium-sized web applications, RESTful services, and more complex applications.\n",
    "\n",
    "Some advantages of Flask framework are:\n",
    "\n",
    "1.Lightweight and flexible: Flask is a lightweight framework that provides developers with a lot of flexibility. It does not come with a lot of built-in features, which allows developers to only use what they need and add other features as required.\n",
    "\n",
    "2.Easy to learn: Flask is easy to learn and understand, making it an ideal choice for beginners. Its simple syntax and clear documentation make it easy for developers to get started with building web applications.\n",
    "\n",
    "3.Extensible: Flask is highly extensible, and developers can add new functionality by using third-party extensions. Flask has a large number of extensions that can be used to add features like user authentication, database integration, and more.\n",
    "\n",
    "4.Modular: Flask is a modular framework, which means that it is composed of small and independent components. This makes it easy to maintain and modify, and developers can add new features without affecting the existing code.\n",
    "\n",
    "5.Built-in development server: Flask comes with a built-in development server, which makes it easy for developers to test their applications locally. This server is lightweight and can be used for development and testing purposes.\n",
    "\n",
    "6.Large community: Flask has a large community of developers who contribute to its development and provide support. This community provides a lot of resources, tutorials, and tools that can help developers build better web applications.\n",
    "\n",
    "\n",
    "\n",
    "\n",
    "\n"
   ]
  },
  {
   "cell_type": "markdown",
   "id": "31dacc95-1fbf-4626-9368-b97247c867a6",
   "metadata": {},
   "source": [
    "# Q2. Create a simple Flask application to display ‘Hello World!!’. Attach the screenshot of the output in Jupyter Notebook."
   ]
  },
  {
   "cell_type": "markdown",
   "id": "3c7bae4b-89a3-481e-8566-a2b9d7028a5e",
   "metadata": {},
   "source": [
    "# Ans :"
   ]
  },
  {
   "cell_type": "code",
   "execution_count": null,
   "id": "a52f79f7-95e7-4135-90cd-d0ca1e60d055",
   "metadata": {},
   "outputs": [],
   "source": [
    "from flask import Flask\n",
    "\n",
    "app = Flask(__name__)\n",
    "\n",
    "@app.route(\"/\")\n",
    "def hello():\n",
    "    return \"Hello World!!\"\n",
    "\n",
    "if __name__ == \"__main__\":\n",
    "    app.run(host=\"0.0.0.0\")"
   ]
  },
  {
   "attachments": {
    "8aa0fdaa-1343-4074-87fe-9d9c865faaa2.png": {
     "image/png": "[encoded data removed]"
    }
   },
   "cell_type": "markdown",
   "id": "4d454cb3-3e6b-494c-88f8-cd0a33c48c7a",
   "metadata": {},
   "source": [
    "![image.png](attachment:8aa0fdaa-1343-4074-87fe-9d9c865faaa2.png)"
   ]
  },
  {
   "cell_type": "markdown",
   "id": "49e7309e-beb4-4a48-9225-a900df1d2e10",
   "metadata": {},
   "source": [
    "# Q3. What is App routing in Flask? Why do we use app routes?"
   ]
  },
  {
   "cell_type": "markdown",
   "id": "6c0a5b3b-0d04-4f04-9012-648e7da82658",
   "metadata": {},
   "source": [
    "# Ans :"
   ]
  },
  {
   "cell_type": "markdown",
   "id": "0b7b00eb-9c3e-4945-8b2a-cef04657bf7c",
   "metadata": {},
   "source": [
    "In Flask, app routing is the process of mapping URLs to functions or views that handle them. It is a way to define the behavior of your Flask application based on the URLs that are requested by the user.\n",
    "\n",
    "App routing in Flask is achieved by using the @app.route decorator. This decorator is used to specify the URL or route that should be associated with a particular function in your Flask application. For example, if you want to define a route for the homepage of your application, you would use the following code:"
   ]
  },
  {
   "cell_type": "code",
   "execution_count": null,
   "id": "c8b530df-e053-463f-b9e1-baec2e4b7580",
   "metadata": {},
   "outputs": [],
   "source": [
    "from flask import Flask\n",
    "\n",
    "app = Flask(__name__)\n",
    "\n",
    "@app.route(\"/\")\n",
    "def hello():\n",
    "    return \"Hello World!!\"\n",
    "\n",
    "if __name__ == \"__main__\":\n",
    "    app.run(host=\"0.0.0.0\")"
   ]
  },
  {
   "cell_type": "markdown",
   "id": "722c9489-c820-4883-96ac-956ccc5faa35",
   "metadata": {},
   "source": [
    "Here, the @app.route('/') decorator specifies that the hello() function should handle requests to the root URL of the application . When a user navigates to this URL in their web browser, Flask will call the hello() function and return the string \"Hello, World!\" to the browser.\n",
    "\n",
    "We use app routes in Flask for several reasons:\n",
    "\n",
    "1.URL mapping: App routes provide a way to map URLs to functions or views in your Flask application. This allows you to define the behavior of your application based on the URLs that are requested by the user.\n",
    "\n",
    "2.User navigation: By defining app routes, you can provide users with a way to navigate through your application by clicking on links or typing URLs into their web browser.\n",
    "\n",
    "3.Separation of concerns: By separating the URL mapping from the function or view logic, you can keep your code organized and maintainable. This makes it easier to add new features or modify existing ones without affecting other parts of your application.\n",
    "\n",
    "4.RESTful API: App routes are also used to define RESTful APIs in Flask. By defining routes for different HTTP methods (e.g., GET, POST, PUT, DELETE), you can create a web API that allows clients to interact with your application programmatically.\n",
    "\n",
    "\n",
    "\n",
    "\n"
   ]
  },
  {
   "cell_type": "markdown",
   "id": "9231a10c-eb5f-4a49-a01d-c5d3ea6b2d6f",
   "metadata": {
    "jp-MarkdownHeadingCollapsed": true,
    "tags": []
   },
   "source": [
    "# Q4. Create a “/welcome” route to display the welcome message “Welcome to ABC Corporation” and a “/” route to show the following details:\n",
    "1.Company Name: ABC Corporation\n",
    "\n",
    "2.Location: India\n",
    "\n",
    "3.Contact Detail: 999-999-9999\n",
    "\n",
    "Attach the screenshot of the output in Jupyter Notebook."
   ]
  },
  {
   "cell_type": "markdown",
   "id": "f7a08185-24c9-4658-a3f1-eacf5f0348ff",
   "metadata": {},
   "source": [
    "# Ans :"
   ]
  },
  {
   "cell_type": "code",
   "execution_count": null,
   "id": "fb0ec619-b188-4abd-b539-aa6e7b68a4c9",
   "metadata": {},
   "outputs": [],
   "source": [
    "from flask import Flask\n",
    "\n",
    "app = Flask(__name__)\n",
    "\n",
    "@app.route('/welcome')\n",
    "def welcome():\n",
    "    return 'Welcome to ABC Corporation'\n",
    "\n",
    "@app.route('/')\n",
    "def company_details():\n",
    "    return 'Company Name: ABC Corporation<br>Location: India<br>Contact Detail: 999-999-9999'\n",
    "\n",
    "if __name__ == '__main__':\n",
    "    app.run(hosr=\"0.0.0.0\")\n"
   ]
  },
  {
   "cell_type": "markdown",
   "id": "1a0e97e2-c80d-4a4d-abf6-324bc85e2538",
   "metadata": {},
   "source": [
    "The \"/welcome\" route will display the message \"Welcome to ABC Corporation\""
   ]
  },
  {
   "attachments": {
    "152ea851-1fc4-4f2f-8b2b-e6dc4914a5ee.png": {
     "image/png": "[encoded data removed]"
    }
   },
   "cell_type": "markdown",
   "id": "9648aaff-415a-43f3-99a5-58a28fd96631",
   "metadata": {},
   "source": [
    "![image.png](attachment:152ea851-1fc4-4f2f-8b2b-e6dc4914a5ee.png)"
   ]
  },
  {
   "cell_type": "markdown",
   "id": "4322aa83-13a9-4f48-9563-004811a9fe51",
   "metadata": {},
   "source": [
    "The \"/\" route will display the following information:\n",
    "\n",
    "1.Company Name: ABC Corporation\n",
    "\n",
    "2.Location: India\n",
    "\n",
    "3.Contact Detail: 999-999-9999"
   ]
  },
  {
   "attachments": {
    "4ab0978b-c082-4a2c-8013-4a32324c8695.png": {
     "image/png": "[encoded data removed]"
    }
   },
   "cell_type": "markdown",
   "id": "29e9fd05-7926-480a-bb8c-e4276029853f",
   "metadata": {},
   "source": [
    "![image.png](attachment:4ab0978b-c082-4a2c-8013-4a32324c8695.png)"
   ]
  },
  {
   "cell_type": "markdown",
   "id": "a89774a5-5ae0-4f54-82c0-a15b500af38e",
   "metadata": {},
   "source": [
    "# Q5. What function is used in Flask for URL Building? Write a Python code to demonstrate the working of the url_for() function."
   ]
  },
  {
   "cell_type": "markdown",
   "id": "0f281d96-a6af-46e7-987f-fa1818545d93",
   "metadata": {},
   "source": [
    "# Ans :"
   ]
  },
  {
   "cell_type": "markdown",
   "id": "d0f49ed9-58f5-4c48-94cf-184876c6912b",
   "metadata": {},
   "source": [
    "In Flask, the url_for() function is used for URL building. It is a helper function that generates a URL to a specific function or endpoint based on its name. It takes the name of the function or endpoint as its first argument and any number of keyword arguments that correspond to the variable parts of the URL.\n",
    "\n",
    "Here's an example Python code that demonstrates the working of the url_for() function in Flask:"
   ]
  },
  {
   "cell_type": "code",
   "execution_count": null,
   "id": "2c360382-856f-41fe-859d-0bc3627e3f54",
   "metadata": {},
   "outputs": [],
   "source": [
    "from flask import Flask, url_for\n",
    "\n",
    "app = Flask(__name__)\n",
    "\n",
    "@app.route('/')\n",
    "def index():\n",
    "    return 'Hello, world!'\n",
    "\n",
    "@app.route('/about')\n",
    "def about():\n",
    "    return 'This is the about page.'\n",
    "\n",
    "with app.test_request_context():\n",
    "    print(url_for('index'))  # Output: '/'\n",
    "    print(url_for('about'))  # Output: '/about'\n"
   ]
  },
  {
   "cell_type": "markdown",
   "id": "2d6f795b-c5fc-41fe-9ac8-95aa69a59f4b",
   "metadata": {},
   "source": [
    "In this example, we have two routes defined: the root route '/', and a route with a fixed URL 'about'.\n",
    "\n",
    "We use url_for() to generate URLs for each of these routes. When we run the code within the test request context, url_for() returns the URLs as strings, which we print to the console.\n",
    "\n",
    "The output will be '/' for the index() function and '/about' for the about() function."
   ]
  },
  {
   "attachments": {
    "d1f7b06d-17d5-412f-b294-1f34312e3e14.png": {
     "image/png": "[encoded data removed]"
    }
   },
   "cell_type": "markdown",
   "id": "29a675ae-9744-48b1-9d4a-91ec2bbd83c9",
   "metadata": {},
   "source": [
    "![image.png](attachment:d1f7b06d-17d5-412f-b294-1f34312e3e14.png)"
   ]
  },
  {
   "cell_type": "code",
   "execution_count": null,
   "id": "236bed47-cad8-4ebe-bcc5-5bf180a1e3c4",
   "metadata": {},
   "outputs": [],
   "source": []
  }
 ],
 "metadata": {
  "kernelspec": {
   "display_name": "Python 3 (ipykernel)",
   "language": "python",
   "name": "python3"
  },
  "language_info": {
   "codemirror_mode": {
    "name": "ipython",
    "version": 3
   },
   "file_extension": ".py",
   "mimetype": "text/x-python",
   "name": "python",
   "nbconvert_exporter": "python",
   "pygments_lexer": "ipython3",
   "version": "3.10.8"
  }
 },
 "nbformat": 4,
 "nbformat_minor": 5
}
